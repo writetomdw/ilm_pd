{
 "cells": [
  {
   "cell_type": "code",
   "execution_count": 2,
   "id": "95536cc8",
   "metadata": {},
   "outputs": [],
   "source": [
    "import pandas as pd"
   ]
  },
  {
   "cell_type": "code",
   "execution_count": 5,
   "id": "806ae358",
   "metadata": {},
   "outputs": [
    {
     "name": "stdout",
     "output_type": "stream",
     "text": [
      "2.0.3\n"
     ]
    }
   ],
   "source": [
    "print(pd.__version__)"
   ]
  },
  {
   "cell_type": "code",
   "execution_count": 23,
   "id": "1a540183",
   "metadata": {},
   "outputs": [],
   "source": [
    "download_url = \"https://raw.githubusercontent.com/fivethirtyeight/data/master/nba-elo/nbaallelo.csv\""
   ]
  },
  {
   "cell_type": "code",
   "execution_count": 24,
   "id": "4815ce0a",
   "metadata": {},
   "outputs": [],
   "source": [
    "import requests"
   ]
  },
  {
   "cell_type": "code",
   "execution_count": 25,
   "id": "aac9ff49",
   "metadata": {},
   "outputs": [],
   "source": [
    "response = requests.get(download_url)"
   ]
  },
  {
   "cell_type": "code",
   "execution_count": 26,
   "id": "a64222ed",
   "metadata": {},
   "outputs": [
    {
     "name": "stdout",
     "output_type": "stream",
     "text": [
      "200\n"
     ]
    }
   ],
   "source": [
    "print(response.status_code)"
   ]
  },
  {
   "cell_type": "code",
   "execution_count": 27,
   "id": "24632ee1",
   "metadata": {},
   "outputs": [],
   "source": [
    "with open('nbaallelo.csv','wb') as f:\n",
    "    f.write(response.content)"
   ]
  },
  {
   "cell_type": "code",
   "execution_count": 28,
   "id": "0744529a",
   "metadata": {},
   "outputs": [],
   "source": [
    "import pandas as pd"
   ]
  },
  {
   "cell_type": "code",
   "execution_count": 29,
   "id": "2e15c8a2",
   "metadata": {},
   "outputs": [],
   "source": [
    "nba = pd.read_csv('nbaallelo.csv')"
   ]
  },
  {
   "cell_type": "code",
   "execution_count": 30,
   "id": "6f444dac",
   "metadata": {},
   "outputs": [
    {
     "data": {
      "text/plain": [
       "pandas.core.frame.DataFrame"
      ]
     },
     "execution_count": 30,
     "metadata": {},
     "output_type": "execute_result"
    }
   ],
   "source": [
    "type(nba)"
   ]
  },
  {
   "cell_type": "code",
   "execution_count": 31,
   "id": "47bab87a",
   "metadata": {},
   "outputs": [
    {
     "data": {
      "text/plain": [
       "126314"
      ]
     },
     "execution_count": 31,
     "metadata": {},
     "output_type": "execute_result"
    }
   ],
   "source": [
    "len(nba)"
   ]
  },
  {
   "cell_type": "code",
   "execution_count": 34,
   "id": "7ba382d2",
   "metadata": {},
   "outputs": [
    {
     "data": {
      "text/plain": [
       "(126314, 23)"
      ]
     },
     "execution_count": 34,
     "metadata": {},
     "output_type": "execute_result"
    }
   ],
   "source": [
    "nba.shape"
   ]
  },
  {
   "cell_type": "code",
   "execution_count": 36,
   "id": "f6f88a63",
   "metadata": {},
   "outputs": [
    {
     "data": {
      "text/html": [
       "<div>\n",
       "<style scoped>\n",
       "    .dataframe tbody tr th:only-of-type {\n",
       "        vertical-align: middle;\n",
       "    }\n",
       "\n",
       "    .dataframe tbody tr th {\n",
       "        vertical-align: top;\n",
       "    }\n",
       "\n",
       "    .dataframe thead th {\n",
       "        text-align: right;\n",
       "    }\n",
       "</style>\n",
       "<table border=\"1\" class=\"dataframe\">\n",
       "  <thead>\n",
       "    <tr style=\"text-align: right;\">\n",
       "      <th></th>\n",
       "      <th>gameorder</th>\n",
       "      <th>game_id</th>\n",
       "      <th>lg_id</th>\n",
       "      <th>_iscopy</th>\n",
       "      <th>year_id</th>\n",
       "      <th>date_game</th>\n",
       "      <th>seasongame</th>\n",
       "      <th>is_playoffs</th>\n",
       "      <th>team_id</th>\n",
       "      <th>fran_id</th>\n",
       "      <th>...</th>\n",
       "      <th>win_equiv</th>\n",
       "      <th>opp_id</th>\n",
       "      <th>opp_fran</th>\n",
       "      <th>opp_pts</th>\n",
       "      <th>opp_elo_i</th>\n",
       "      <th>opp_elo_n</th>\n",
       "      <th>game_location</th>\n",
       "      <th>game_result</th>\n",
       "      <th>forecast</th>\n",
       "      <th>notes</th>\n",
       "    </tr>\n",
       "  </thead>\n",
       "  <tbody>\n",
       "    <tr>\n",
       "      <th>0</th>\n",
       "      <td>1</td>\n",
       "      <td>194611010TRH</td>\n",
       "      <td>NBA</td>\n",
       "      <td>0</td>\n",
       "      <td>1947</td>\n",
       "      <td>11/1/1946</td>\n",
       "      <td>1</td>\n",
       "      <td>0</td>\n",
       "      <td>TRH</td>\n",
       "      <td>Huskies</td>\n",
       "      <td>...</td>\n",
       "      <td>40.294830</td>\n",
       "      <td>NYK</td>\n",
       "      <td>Knicks</td>\n",
       "      <td>68</td>\n",
       "      <td>1300.0000</td>\n",
       "      <td>1306.7233</td>\n",
       "      <td>H</td>\n",
       "      <td>L</td>\n",
       "      <td>0.640065</td>\n",
       "      <td>NaN</td>\n",
       "    </tr>\n",
       "    <tr>\n",
       "      <th>1</th>\n",
       "      <td>1</td>\n",
       "      <td>194611010TRH</td>\n",
       "      <td>NBA</td>\n",
       "      <td>1</td>\n",
       "      <td>1947</td>\n",
       "      <td>11/1/1946</td>\n",
       "      <td>1</td>\n",
       "      <td>0</td>\n",
       "      <td>NYK</td>\n",
       "      <td>Knicks</td>\n",
       "      <td>...</td>\n",
       "      <td>41.705170</td>\n",
       "      <td>TRH</td>\n",
       "      <td>Huskies</td>\n",
       "      <td>66</td>\n",
       "      <td>1300.0000</td>\n",
       "      <td>1293.2767</td>\n",
       "      <td>A</td>\n",
       "      <td>W</td>\n",
       "      <td>0.359935</td>\n",
       "      <td>NaN</td>\n",
       "    </tr>\n",
       "    <tr>\n",
       "      <th>2</th>\n",
       "      <td>2</td>\n",
       "      <td>194611020CHS</td>\n",
       "      <td>NBA</td>\n",
       "      <td>0</td>\n",
       "      <td>1947</td>\n",
       "      <td>11/2/1946</td>\n",
       "      <td>1</td>\n",
       "      <td>0</td>\n",
       "      <td>CHS</td>\n",
       "      <td>Stags</td>\n",
       "      <td>...</td>\n",
       "      <td>42.012257</td>\n",
       "      <td>NYK</td>\n",
       "      <td>Knicks</td>\n",
       "      <td>47</td>\n",
       "      <td>1306.7233</td>\n",
       "      <td>1297.0712</td>\n",
       "      <td>H</td>\n",
       "      <td>W</td>\n",
       "      <td>0.631101</td>\n",
       "      <td>NaN</td>\n",
       "    </tr>\n",
       "    <tr>\n",
       "      <th>3</th>\n",
       "      <td>2</td>\n",
       "      <td>194611020CHS</td>\n",
       "      <td>NBA</td>\n",
       "      <td>1</td>\n",
       "      <td>1947</td>\n",
       "      <td>11/2/1946</td>\n",
       "      <td>2</td>\n",
       "      <td>0</td>\n",
       "      <td>NYK</td>\n",
       "      <td>Knicks</td>\n",
       "      <td>...</td>\n",
       "      <td>40.692783</td>\n",
       "      <td>CHS</td>\n",
       "      <td>Stags</td>\n",
       "      <td>63</td>\n",
       "      <td>1300.0000</td>\n",
       "      <td>1309.6521</td>\n",
       "      <td>A</td>\n",
       "      <td>L</td>\n",
       "      <td>0.368899</td>\n",
       "      <td>NaN</td>\n",
       "    </tr>\n",
       "    <tr>\n",
       "      <th>4</th>\n",
       "      <td>3</td>\n",
       "      <td>194611020DTF</td>\n",
       "      <td>NBA</td>\n",
       "      <td>0</td>\n",
       "      <td>1947</td>\n",
       "      <td>11/2/1946</td>\n",
       "      <td>1</td>\n",
       "      <td>0</td>\n",
       "      <td>DTF</td>\n",
       "      <td>Falcons</td>\n",
       "      <td>...</td>\n",
       "      <td>38.864048</td>\n",
       "      <td>WSC</td>\n",
       "      <td>Capitols</td>\n",
       "      <td>50</td>\n",
       "      <td>1300.0000</td>\n",
       "      <td>1320.3811</td>\n",
       "      <td>H</td>\n",
       "      <td>L</td>\n",
       "      <td>0.640065</td>\n",
       "      <td>NaN</td>\n",
       "    </tr>\n",
       "  </tbody>\n",
       "</table>\n",
       "<p>5 rows × 23 columns</p>\n",
       "</div>"
      ],
      "text/plain": [
       "   gameorder       game_id lg_id  _iscopy  year_id  date_game  seasongame  \\\n",
       "0          1  194611010TRH   NBA        0     1947  11/1/1946           1   \n",
       "1          1  194611010TRH   NBA        1     1947  11/1/1946           1   \n",
       "2          2  194611020CHS   NBA        0     1947  11/2/1946           1   \n",
       "3          2  194611020CHS   NBA        1     1947  11/2/1946           2   \n",
       "4          3  194611020DTF   NBA        0     1947  11/2/1946           1   \n",
       "\n",
       "   is_playoffs team_id  fran_id  ...  win_equiv  opp_id  opp_fran  opp_pts  \\\n",
       "0            0     TRH  Huskies  ...  40.294830     NYK    Knicks       68   \n",
       "1            0     NYK   Knicks  ...  41.705170     TRH   Huskies       66   \n",
       "2            0     CHS    Stags  ...  42.012257     NYK    Knicks       47   \n",
       "3            0     NYK   Knicks  ...  40.692783     CHS     Stags       63   \n",
       "4            0     DTF  Falcons  ...  38.864048     WSC  Capitols       50   \n",
       "\n",
       "   opp_elo_i  opp_elo_n  game_location  game_result  forecast notes  \n",
       "0  1300.0000  1306.7233              H            L  0.640065   NaN  \n",
       "1  1300.0000  1293.2767              A            W  0.359935   NaN  \n",
       "2  1306.7233  1297.0712              H            W  0.631101   NaN  \n",
       "3  1300.0000  1309.6521              A            L  0.368899   NaN  \n",
       "4  1300.0000  1320.3811              H            L  0.640065   NaN  \n",
       "\n",
       "[5 rows x 23 columns]"
      ]
     },
     "execution_count": 36,
     "metadata": {},
     "output_type": "execute_result"
    }
   ],
   "source": [
    "nba.head()"
   ]
  },
  {
   "cell_type": "code",
   "execution_count": 38,
   "id": "44a99d80",
   "metadata": {},
   "outputs": [
    {
     "name": "stdout",
     "output_type": "stream",
     "text": [
      "<class 'pandas.core.frame.DataFrame'>\n",
      "RangeIndex: 126314 entries, 0 to 126313\n",
      "Data columns (total 23 columns):\n",
      " #   Column         Non-Null Count   Dtype  \n",
      "---  ------         --------------   -----  \n",
      " 0   gameorder      126314 non-null  int64  \n",
      " 1   game_id        126314 non-null  object \n",
      " 2   lg_id          126314 non-null  object \n",
      " 3   _iscopy        126314 non-null  int64  \n",
      " 4   year_id        126314 non-null  int64  \n",
      " 5   date_game      126314 non-null  object \n",
      " 6   seasongame     126314 non-null  int64  \n",
      " 7   is_playoffs    126314 non-null  int64  \n",
      " 8   team_id        126314 non-null  object \n",
      " 9   fran_id        126314 non-null  object \n",
      " 10  pts            126314 non-null  int64  \n",
      " 11  elo_i          126314 non-null  float64\n",
      " 12  elo_n          126314 non-null  float64\n",
      " 13  win_equiv      126314 non-null  float64\n",
      " 14  opp_id         126314 non-null  object \n",
      " 15  opp_fran       126314 non-null  object \n",
      " 16  opp_pts        126314 non-null  int64  \n",
      " 17  opp_elo_i      126314 non-null  float64\n",
      " 18  opp_elo_n      126314 non-null  float64\n",
      " 19  game_location  126314 non-null  object \n",
      " 20  game_result    126314 non-null  object \n",
      " 21  forecast       126314 non-null  float64\n",
      " 22  notes          5424 non-null    object \n",
      "dtypes: float64(6), int64(7), object(10)\n",
      "memory usage: 22.2+ MB\n"
     ]
    }
   ],
   "source": [
    "nba.info()"
   ]
  }
 ],
 "metadata": {
  "kernelspec": {
   "display_name": "Python 3 (ipykernel)",
   "language": "python",
   "name": "python3"
  },
  "language_info": {
   "codemirror_mode": {
    "name": "ipython",
    "version": 3
   },
   "file_extension": ".py",
   "mimetype": "text/x-python",
   "name": "python",
   "nbconvert_exporter": "python",
   "pygments_lexer": "ipython3",
   "version": "3.11.5"
  }
 },
 "nbformat": 4,
 "nbformat_minor": 5
}
